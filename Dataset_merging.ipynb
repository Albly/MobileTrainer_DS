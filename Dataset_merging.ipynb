{
 "cells": [
  {
   "cell_type": "code",
   "execution_count": 6,
   "metadata": {},
   "outputs": [],
   "source": [
    "import glob\n",
    "import pandas as pd"
   ]
  },
  {
   "cell_type": "markdown",
   "metadata": {},
   "source": [
    "# Объединение файлов с готовым БПФ"
   ]
  },
  {
   "cell_type": "markdown",
   "metadata": {},
   "source": [
    "# Названия всех упражнений"
   ]
  },
  {
   "cell_type": "code",
   "execution_count": 7,
   "metadata": {},
   "outputs": [],
   "source": [
    "paths = []\n",
    "\n",
    "FOLDER = '\\FFT'\n",
    "FOLD = '\\A'\n",
    "paths.append(r'DATASET_SORTED\\0.Вращение рук (266)'+str(FOLDER)+str(FOLD)) #0\n",
    "paths.append(r'DATASET_SORTED\\1.Выпады (142)'+str(FOLDER)+str(FOLD)) #1\n",
    "paths.append(r'DATASET_SORTED\\3.Отжимания (238)'+str(FOLDER)+str(FOLD)) #2\n",
    "paths.append(r'DATASET_SORTED\\4.Подъем рук (240)'+str(FOLDER)+str(FOLD)) #3\n",
    "paths.append(r'DATASET_SORTED\\5.Пресс (247)'+str(FOLDER)+str(FOLD)) #4\n",
    "paths.append(r'DATASET_SORTED\\6.Приседания (421)'+str(FOLDER)+str(FOLD)) #5\n",
    "paths.append(r'DATASET_SORTED\\7.Прыжки на месте (270)'+str(FOLDER)+str(FOLD)) #6"
   ]
  },
  {
   "cell_type": "markdown",
   "metadata": {},
   "source": [
    "# Объединение"
   ]
  },
  {
   "cell_type": "code",
   "execution_count": 8,
   "metadata": {},
   "outputs": [],
   "source": [
    "# scaler(filename (the name of input file), counter(the number of exercise))\n",
    "def scaler(filename, counter):\n",
    "    df = pd.read_csv(filename, delimiter=',')\n",
    "\n",
    "    XX = df['x']\n",
    "    YY = df['y']\n",
    "    ZZ = df['z']\n",
    "    val = df['val'][0]\n",
    "\n",
    "    #df1 = pd.DataFrame(XX)\n",
    "    #df2 = pd.DataFrame(YY)\n",
    "    #df3 = pd.DataFrame(ZZ)\n",
    "\n",
    "    df4 = pd.concat([XX, YY,ZZ], axis=0, ignore_index=True)\n",
    "    df4.loc[df4.size] = counter\n",
    "    return df4\n",
    "\n",
    "# mergeOnePath(pathOne (merge from this folder), counter(the number of exercise))\n",
    "def mergeOnePath(pathOne, counter):\n",
    "    all_files = glob.glob(pathOne + \"/*.csv\")\n",
    "    \n",
    "    liOne = []\n",
    "\n",
    "    for filenameOne in all_files:\n",
    "        dfOne = scaler(filenameOne, counter)\n",
    "        liOne.append(dfOne)\n",
    "    frameOne = pd.concat(liOne, axis=1, ignore_index=True)\n",
    "    \n",
    "    return frameOne\n",
    "\n",
    "# mergeMultiplePath(pathsMultiple(merge from these folders)):\n",
    "frameMultiple = []\n",
    "def mergeMultiplePath(pathsMultiple):\n",
    "    counter = 0\n",
    "    liMultiple = []\n",
    "    \n",
    "    for pathMultiple in pathsMultiple:\n",
    "        frameMultiple = mergeOnePath(pathMultiple, counter)\n",
    "        liMultiple.append(frameMultiple)\n",
    "        counter = counter + 1\n",
    "    frameMultiple = pd.concat(liMultiple, axis=1, ignore_index=True)\n",
    "    return frameMultiple\n",
    "\n",
    "# merge all files from folders from paths[]\n",
    "df = mergeMultiplePath(paths).T\n",
    "\n",
    "df.to_csv('DATASET_SORTED\\datasetA.csv')"
   ]
  }
 ],
 "metadata": {
  "kernelspec": {
   "display_name": "Python 3",
   "language": "python",
   "name": "python3"
  },
  "language_info": {
   "codemirror_mode": {
    "name": "ipython",
    "version": 3
   },
   "file_extension": ".py",
   "mimetype": "text/x-python",
   "name": "python",
   "nbconvert_exporter": "python",
   "pygments_lexer": "ipython3",
   "version": "3.8.3"
  }
 },
 "nbformat": 4,
 "nbformat_minor": 4
}
